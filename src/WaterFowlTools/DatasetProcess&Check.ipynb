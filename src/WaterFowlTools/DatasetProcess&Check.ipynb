{
 "cells": [
  {
   "cell_type": "code",
   "execution_count": 1,
   "metadata": {},
   "outputs": [],
   "source": [
    "import glob\n",
    "import matplotlib.pyplot as plt\n",
    "import numpy\n",
    "import tqdm\n",
    "import os\n",
    "import shutil\n",
    "import pandas as pd"
   ]
  },
  {
   "cell_type": "markdown",
   "metadata": {},
   "source": [
    "Get image meta data"
   ]
  },
  {
   "cell_type": "code",
   "execution_count": null,
   "metadata": {},
   "outputs": [],
   "source": [
    "from email.mime import image\n",
    "import pyexiv2\n",
    "def GetMetaDataHeight(image_dir):\n",
    "    with pyexiv2.Image(image_dir) as img:\n",
    "        data = img.read_xmp()\n",
    "        try:\n",
    "            return (int(float(data['Xmp.drone-dji.RelativeAltitude'][:])))\n",
    "        except:\n",
    "            print (data)\n",
    "GetMetaDataHeight('/home/zt253/data/WaterfowlDataset/Original/Waterfowl_SpeciesClassification_Dataset_Bird_I/DJI_0008.jpg')"
   ]
  },
  {
   "cell_type": "markdown",
   "metadata": {},
   "source": [
    "Process the folder H"
   ]
  },
  {
   "cell_type": "code",
   "execution_count": null,
   "metadata": {},
   "outputs": [],
   "source": [
    "def rollTxtBackDetection(txt_dir,target_dir):\n",
    "    with open (txt_dir,'r')as f1:\n",
    "        data = f1.readlines()\n",
    "    with open(target_dir,'w') as f2:\n",
    "        for line in data:\n",
    "            line = line.split(',')[1:]\n",
    "            f2.writelines('{},{},{},{},{}'.format('bird',line[0],line[1],line[2],line[3]))\n",
    "def removeExtraBird(txt_dir,target_dir):\n",
    "    with open (txt_dir,'r')as f1:\n",
    "        data = f1.readlines()\n",
    "    with open(target_dir,'w') as f2:\n",
    "        for line in data:\n",
    "            line = line.split(',')\n",
    "            f2.writelines('{},{},{},{},{}'.format(line[1],line[2],line[3],line[4],line[5]))\n"
   ]
  },
  {
   "cell_type": "code",
   "execution_count": null,
   "metadata": {},
   "outputs": [],
   "source": [
    "input_folder = '/home/zt253/data/WaterfowlDataset/Original/Bird_H'\n",
    "output_folder = '/home/zt253/data/WaterfowlDataset/Processed/Bird_H'\n",
    "image_list = glob.glob(input_folder+'/train/*.jpg')+glob.glob(input_folder+'/val/*.jpg')+glob.glob(input_folder+'/test/*.jpg')\n",
    "image_list = [i for i in image_list if 'visual' not in i]\n",
    "print ('num of images',len(image_list))\n",
    "image_info = []\n",
    "if (not os.path.exists(output_folder)):\n",
    "    os.makedirs(output_folder)\n",
    "for image_dir in image_list:\n",
    "    height = int(image_dir.split('m_')[0].split('/')[-1].split('_')[-1])\n",
    "    if ('/test/' in image_dir):\n",
    "        split_key = 'test'\n",
    "    else:\n",
    "        split_key = 'train'\n",
    "    shutil.copy(image_dir,output_folder+'/'+image_dir.split('/')[-1])\n",
    "    shutil.copy(image_dir.replace('.jpg','.txt'),output_folder+'/'+image_dir.split('/')[-1].replace('.jpg','_class.txt'))\n",
    "    rollTxtBackDetection(image_dir.replace('.jpg','.txt'),output_folder+'/'+image_dir.split('/')[-1].replace('.jpg','.txt'))\n",
    "    image_info.append([image_dir.split('/')[-1],image_dir.split('/')[-1].replace('.jpg','.txt'),image_dir.split('/')[-1].replace('.jpg','_class.txt'),height,split_key])\n",
    "df = pd.DataFrame(image_info)\n",
    "df.to_csv(output_folder+'/image_info.csv',header = ['image_name','annotation_name','classification_name','height','split'])"
   ]
  },
  {
   "cell_type": "markdown",
   "metadata": {},
   "source": [
    "Process for folder I"
   ]
  },
  {
   "cell_type": "code",
   "execution_count": null,
   "metadata": {},
   "outputs": [],
   "source": [
    "input_folder = '/home/zt253/data/WaterfowlDataset/Original/Waterfowl_SpeciesClassification_Dataset_Bird_I'\n",
    "output_folder = '/home/zt253/data/WaterfowlDataset/Processed/Bird_I'\n",
    "image_list = glob.glob(input_folder+'/*.jpg')\n",
    "image_list = [i for i in image_list if 'visual' not in i]\n",
    "print ('num of images',len(image_list))\n",
    "image_info = []\n",
    "if (not os.path.exists(output_folder)):\n",
    "    os.makedirs(output_folder)\n",
    "for image_dir in image_list:\n",
    "    shutil.copy(image_dir,output_folder+'/'+image_dir.split('/')[-1])\n",
    "    #height = int(image_dir.split('m/')[0].split('/')[-1].split('_')[-1])\n",
    "    height  = 15\n",
    "    image_name = image_dir.split('/')[-1]\n",
    "    txt_dir = image_dir.replace('.jpg','_class.txt')\n",
    "    shutil.copy(image_dir.replace('.jpg','.txt'),output_folder+'/'+image_dir.replace('.jpg','.txt').split('/')[-1])\n",
    "    try:\n",
    "        removeExtraBird(txt_dir,output_folder+'/'+txt_dir.split('/')[-1])\n",
    "        image_info.append([image_name,image_name.replace('.jpg','.txt'),image_name.replace('.jpg','_class.txt'),height])\n",
    "    except:\n",
    "        image_info.append([image_name,image_name.replace('.jpg','.txt'),'N/A',height])\n",
    "df = pd.DataFrame(image_info)\n",
    "df.to_csv(output_folder+'/image_info.csv',header = ['image_name','annotation_name','classification_name','height'])"
   ]
  },
  {
   "cell_type": "markdown",
   "metadata": {},
   "source": [
    "Process dataset A"
   ]
  },
  {
   "cell_type": "code",
   "execution_count": null,
   "metadata": {},
   "outputs": [],
   "source": [
    "def rewriteTxt(txt_dir,target_dir):\n",
    "    with open (txt_dir,'r')as f1:\n",
    "        data = f1.readlines()\n",
    "    with open(target_dir,'w') as f2:\n",
    "        for line in data:\n",
    "            line = line.split(',')\n",
    "            f2.writelines('{},{},{},{},{}'.format('bird',line[0],line[1],line[2],line[3]))"
   ]
  },
  {
   "cell_type": "code",
   "execution_count": null,
   "metadata": {},
   "outputs": [],
   "source": [
    "input_folder = '/home/zt253/data/WaterfowlDataset/Original/2019_Summer_decoy_Bird_A'\n",
    "output_folder = '/home/zt253/data/WaterfowlDataset/Processed/Bird_A'\n",
    "image_list = glob.glob(input_folder+'/*.jpg')\n",
    "image_list = [i for i in image_list if 'visual' not in i]\n",
    "print ('num of images',len(image_list))\n",
    "image_info = []\n",
    "if (not os.path.exists(output_folder)):\n",
    "    os.makedirs(output_folder)\n",
    "for image_dir in image_list:\n",
    "    shutil.copy(image_dir,output_folder+'/'+image_dir.split('/')[-1])\n",
    "    height = int(image_dir.split('/')[-1].split('_')[-2])\n",
    "    image_name = image_dir.split('/')[-1]\n",
    "    txt_dir = image_dir.replace('.jpg','.txt')\n",
    "\n",
    "    rewriteTxt(txt_dir,output_folder+'/'+txt_dir.split('/')[-1])\n",
    "    image_info.append([image_name,image_name.replace('.jpg','.txt'),height])\n",
    "\n",
    "df = pd.DataFrame(image_info)\n",
    "df.to_csv(output_folder+'/image_info.csv',header = ['image_name','annotation_name','height'])"
   ]
  },
  {
   "cell_type": "markdown",
   "metadata": {},
   "source": [
    "Porcess Bird_B"
   ]
  },
  {
   "cell_type": "code",
   "execution_count": null,
   "metadata": {},
   "outputs": [],
   "source": [
    "input_folder = '/home/zt253/data/WaterfowlDataset/Original/Eagle_bluff_sep29_Bird_B'\n",
    "output_folder = '/home/zt253/data/WaterfowlDataset/Processed/Bird_B'\n",
    "image_list = glob.glob(input_folder+'/*.JPG')\n",
    "image_list = [i for i in image_list if 'visual' not in i]\n",
    "print ('num of images',len(image_list))\n",
    "image_info = []\n",
    "if (not os.path.exists(output_folder)):\n",
    "    os.makedirs(output_folder)\n",
    "for image_dir in image_list:\n",
    "    shutil.copy(image_dir,output_folder+'/'+image_dir.split('/')[-1])\n",
    "    height = GetMetaDataHeight(image_dir)\n",
    "    image_name = image_dir.split('/')[-1]\n",
    "    txt_dir = image_dir.replace('.JPG','_bird_box.txt')\n",
    "    rewriteTxt(txt_dir,output_folder+'/'+txt_dir.split('/')[-1])\n",
    "    try:\n",
    "        txt_dir = image_dir.replace('.JPG','_bird_mask.txt')\n",
    "        shutil.copy(txt_dir,output_folder+'/'+txt_dir.split('/')[-1])\n",
    "        image_info.append([image_name,image_name.replace('.JPG','_bird_box.txt'),image_name.replace('.JPG','_bird_mask.txt'),height])\n",
    "    except:\n",
    "        image_info.append([image_name,image_name.replace('.JPG','_bird_box.txt'),'N/A',height])\n",
    "\n",
    "    \n",
    "\n",
    "df = pd.DataFrame(image_info)\n",
    "df.to_csv(output_folder+'/image_info.csv',header = ['image_name','annotation_name','segmentation_name','height'])"
   ]
  },
  {
   "cell_type": "markdown",
   "metadata": {},
   "source": [
    "Process Bird_C"
   ]
  },
  {
   "cell_type": "code",
   "execution_count": null,
   "metadata": {},
   "outputs": [],
   "source": [
    "input_folder = '/home/zt253/data/WaterfowlDataset/Original/GeeseOnAPond_2020_May-June_Bird_C'\n",
    "output_folder = '/home/zt253/data/WaterfowlDataset/Processed/Bird_C'\n",
    "image_list = glob.glob(input_folder+'/*.JPG')\n",
    "image_list = [i for i in image_list if 'visual' not in i]\n",
    "print ('num of images',len(image_list))\n",
    "image_info = []\n",
    "if (not os.path.exists(output_folder)):\n",
    "    os.makedirs(output_folder)\n",
    "for image_dir in image_list:\n",
    "    shutil.copy(image_dir,output_folder+'/'+image_dir.split('/')[-1])\n",
    "    height = int(image_dir.split('/')[-1].split('_')[-1].replace('m.JPG',''))\n",
    "    image_name = image_dir.split('/')[-1]\n",
    "    txt_dir = image_dir.replace('.JPG','_bird_box.txt')\n",
    "\n",
    "    rewriteTxt(txt_dir,output_folder+'/'+txt_dir.split('/')[-1])\n",
    "    image_info.append([image_name,image_name.replace('.JPG','_bird_box.txt'),height])\n",
    "\n",
    "df = pd.DataFrame(image_info)\n",
    "df.to_csv(output_folder+'/image_info.csv',header = ['image_name','annotation_name','height'])"
   ]
  },
  {
   "cell_type": "markdown",
   "metadata": {},
   "source": [
    "Process Bird_D"
   ]
  },
  {
   "cell_type": "code",
   "execution_count": null,
   "metadata": {},
   "outputs": [],
   "source": [
    "input_folder = '/home/zt253/data/WaterfowlDataset/Original/LBAI_Bird_D'\n",
    "output_folder = '/home/zt253/data/WaterfowlDataset/Processed/Bird_D'\n",
    "image_list = glob.glob(input_folder+'/*.JPG')\n",
    "image_list = [i for i in image_list if 'visual' not in i]\n",
    "print ('num of images',len(image_list))\n",
    "image_info = []\n",
    "if (not os.path.exists(output_folder)):\n",
    "    os.makedirs(output_folder)\n",
    "for image_dir in image_list:\n",
    "    shutil.copy(image_dir,output_folder+'/'+image_dir.split('/')[-1])\n",
    "    height = 90\n",
    "    image_name = image_dir.split('/')[-1]\n",
    "    txt_dir = image_dir.replace('.JPG','.txt')\n",
    "    rewriteTxt(txt_dir,output_folder+'/'+txt_dir.split('/')[-1])\n",
    "    image_info.append([image_name,image_name.replace('.JPG','.txt'),height])\n",
    "\n",
    "df = pd.DataFrame(image_info)\n",
    "df.to_csv(output_folder+'/image_info.csv',header = ['image_name','annotation_name','height'])"
   ]
  },
  {
   "cell_type": "markdown",
   "metadata": {},
   "source": [
    "Process Bird_E"
   ]
  },
  {
   "cell_type": "code",
   "execution_count": null,
   "metadata": {},
   "outputs": [],
   "source": [
    "input_folder = '/home/zt253/data/WaterfowlDataset/Original/mdc_Bird_E'\n",
    "output_folder = '/home/zt253/data/WaterfowlDataset/Processed/Bird_E'\n",
    "image_list = glob.glob(input_folder+'/*.png')\n",
    "image_list = [i for i in image_list if 'visual' not in i]\n",
    "print ('num of images',len(image_list))\n",
    "image_info = []\n",
    "if (not os.path.exists(output_folder)):\n",
    "    os.makedirs(output_folder)\n",
    "for image_dir in image_list:\n",
    "    shutil.copy(image_dir,output_folder+'/'+image_dir.split('/')[-1])\n",
    "    height = 90\n",
    "    image_name = image_dir.split('/')[-1]\n",
    "    txt_dir = image_dir.replace('.png','.txt')\n",
    "    try:\n",
    "        rewriteTxt(txt_dir,output_folder+'/'+txt_dir.split('/')[-1])\n",
    "    except:\n",
    "        with open(output_folder+'/'+txt_dir.split('/')[-1],'w') as f:\n",
    "            pass\n",
    "    image_info.append([image_name,image_name.replace('.png','.txt'),height])\n",
    "df = pd.DataFrame(image_info)\n",
    "df.to_csv(output_folder+'/image_info.csv',header = ['image_name','annotation_name','height'])"
   ]
  },
  {
   "cell_type": "markdown",
   "metadata": {},
   "source": [
    "Process Bird_F"
   ]
  },
  {
   "cell_type": "code",
   "execution_count": null,
   "metadata": {},
   "outputs": [],
   "source": [
    "input_folder = '/home/zt253/data/WaterfowlDataset/Original/PershingSP_Photos_Bird_F'\n",
    "output_folder = '/home/zt253/data/WaterfowlDataset/Processed/Bird_F'\n",
    "image_list = glob.glob(input_folder+'/*.png')\n",
    "image_list = [i for i in image_list if 'visual' not in i]\n",
    "print ('num of images',len(image_list))\n",
    "image_info = []\n",
    "if (not os.path.exists(output_folder)):\n",
    "    os.makedirs(output_folder)\n",
    "for image_dir in image_list:\n",
    "    shutil.copy(image_dir,output_folder+'/'+image_dir.split('/')[-1])\n",
    "    height = 90\n",
    "    image_name = image_dir.split('/')[-1]\n",
    "    txt_dir = image_dir.replace('.png','.txt')\n",
    "    rewriteTxt(txt_dir,output_folder+'/'+txt_dir.split('/')[-1])\n",
    "\n",
    "    image_info.append([image_name,image_name.replace('.png','.txt'),height])\n",
    "df = pd.DataFrame(image_info)\n",
    "df.to_csv(output_folder+'/image_info.csv',header = ['image_name','annotation_name','height'])"
   ]
  },
  {
   "cell_type": "markdown",
   "metadata": {},
   "source": [
    "Process Bird_G"
   ]
  },
  {
   "cell_type": "code",
   "execution_count": null,
   "metadata": {},
   "outputs": [],
   "source": [
    "import json \n",
    "\n",
    "def JsonBbox2txt(json_dir,target_dir):\n",
    "    with open(json_dir,'r') as f:\n",
    "        data = json.load(f)\n",
    "    annotations = data['shapes']\n",
    "    bbox = []\n",
    "    for anno in annotations:\n",
    "        box = anno['points']\n",
    "        box = ([int(i) for i in box[0]+box[1]])\n",
    "        bbox.append([min(box[0],box[2]),min(box[1],box[3]),max(box[0],box[2]),max(box[1],box[3])])\n",
    "    with open(target_dir,'w') as f:\n",
    "        for box in bbox:\n",
    "            assert (len(box) == 4)\n",
    "            f.writelines('bird,{},{},{},{}\\n'.format(box[0],box[1],box[2],box[3]))\n",
    "JsonBbox2txt('/home/zt253/data/WaterfowlDataset/Original/Bird_G/train/Cloud_Ice_15m_test.json','tmp.txt')"
   ]
  },
  {
   "cell_type": "code",
   "execution_count": null,
   "metadata": {},
   "outputs": [],
   "source": [
    "input_folder_1 = '/home/zt253/data/WaterfowlDataset/Original/Bird_G/train'\n",
    "input_folder_2 = '/home/zt253/data/WaterfowlDataset/Original/Bird_G/test'\n",
    "output_folder = '/home/zt253/data/WaterfowlDataset/Processed/Bird_G'\n",
    "image_list = glob.glob(input_folder_1+'/*.JPG')+glob.glob(input_folder_2+'/*.JPG')\n",
    "image_list = [i for i in image_list if 'visual' not in i]\n",
    "print ('num of images',len(image_list))\n",
    "image_info = []\n",
    "if (not os.path.exists(output_folder)):\n",
    "    os.makedirs(output_folder)\n",
    "for image_dir in image_list:\n",
    "    shutil.copy(image_dir,output_folder+'/'+image_dir.split('/')[-1])\n",
    "    height = GetMetaDataHeight(image_dir)\n",
    "    image_name = image_dir.split('/')[-1]\n",
    "    json_dir = image_dir.replace('.JPG','.json')\n",
    "\n",
    "    JsonBbox2txt(json_dir,output_folder+'/'+json_dir.split('/')[-1].replace('.json','.txt'))\n",
    "    if ('/train/' in image_dir):\n",
    "        image_info.append([image_name,image_name.replace('.JPG','.txt'),height,'train'])\n",
    "    else:\n",
    "        image_info.append([image_name,image_name.replace('.JPG','.txt'),height,'test'])\n",
    "\n",
    "df = pd.DataFrame(image_info)\n",
    "df.to_csv(output_folder+'/image_info.csv',header = ['image_name','annotation_name','height','split'])"
   ]
  },
  {
   "cell_type": "markdown",
   "metadata": {},
   "source": [
    "Process Bird J"
   ]
  },
  {
   "cell_type": "code",
   "execution_count": null,
   "metadata": {},
   "outputs": [],
   "source": [
    "input_folder_1 = '/home/zt253/data/WaterfowlDataset/Original/Bird_J/train'\n",
    "input_folder_2 = '/home/zt253/data/WaterfowlDataset/Original/Bird_J/val'\n",
    "input_folder_3 = '/home/zt253/data/WaterfowlDataset/Original/Bird_J/test'\n",
    "output_folder = '/home/zt253/data/WaterfowlDataset/Processed/Bird_J'\n",
    "image_list = glob.glob(input_folder_1+'/*.jpg')+glob.glob(input_folder_2+'/*.jpg')+glob.glob(input_folder_3+'/*.jpg')\n",
    "image_list = [i for i in image_list if 'visual' not in i]\n",
    "print ('num of images',len(image_list))\n",
    "image_info = []\n",
    "if (not os.path.exists(output_folder)):\n",
    "    os.makedirs(output_folder)\n",
    "for image_dir in image_list:\n",
    "    shutil.copy(image_dir,output_folder+'/'+image_dir.split('/')[-1])\n",
    "    height = int(image_dir.split('/')[-1].split('m_')[0].split('_')[-1])\n",
    "    image_name = image_dir.split('/')[-1]\n",
    "    txt_dir = image_dir.replace('.jpg','.txt')\n",
    "    rewriteTxt(txt_dir,output_folder+'/'+txt_dir.split('/')[-1])\n",
    "    if ('/test/' in image_dir):\n",
    "        image_info.append([image_name,image_name.replace('.jpg','.txt'),height,'test'])\n",
    "    else:\n",
    "        image_info.append([image_name,image_name.replace('.jpg','.txt'),height,'train'])\n",
    "df = pd.DataFrame(image_info)\n",
    "df.to_csv(output_folder+'/image_info.csv',header = ['image_name','annotation_name','height','split'])"
   ]
  },
  {
   "cell_type": "markdown",
   "metadata": {},
   "source": [
    "check if meta data exists"
   ]
  },
  {
   "cell_type": "code",
   "execution_count": null,
   "metadata": {},
   "outputs": [],
   "source": [
    "folder_list = sorted(glob.glob('/home/zt253/data/WaterfowlDataset/Processed/*'))\n",
    "for folder in folder_list:\n",
    "    image_dir = (glob.glob(folder+'/*.jpg')+glob.glob(folder+'/*.JPG')+glob.glob(folder+'/*.png'))[0]\n",
    "    height = GetMetaDataHeight(image_dir)\n",
    "    print (folder.split('/')[-1],height)"
   ]
  },
  {
   "cell_type": "markdown",
   "metadata": {},
   "source": [
    "Visualize the image verify the annotations"
   ]
  },
  {
   "cell_type": "code",
   "execution_count": 2,
   "metadata": {},
   "outputs": [],
   "source": [
    "import cv2\n",
    "import pandas as pd\n",
    "import os\n",
    "#returns image \n",
    "def waterfowlDataset(root,info_csv,isVisual=False,target_dir = ''):\n",
    "    if (isVisual == True):\n",
    "        assert(target_dir)\n",
    "    df = pd.read_csv(info_csv)\n",
    "    os.makedirs(target_dir,exist_ok=True)\n",
    "    for index in range(len(df)):\n",
    "        image_dir = root+'/{}'.format(df.iloc[index]['image_name'])\n",
    "        if('classification_name' in df.columns and not pd.isna(df.iloc[index]['classification_name'])):\n",
    "            anno_dir = root+'/{}'.format(df.iloc[index]['classification_name'])\n",
    "        else:\n",
    "            anno_dir = root+'/{}'.format(df.iloc[index]['annotation_name'])\n",
    "        image = cv2.imread(image_dir)\n",
    "        with open(anno_dir,'r') as f:\n",
    "            anno_data = f.readlines()\n",
    "        bbox = []\n",
    "        for line in anno_data:\n",
    "            line = line.replace('\\n','').split(',')\n",
    "            bbox.append([line[0],int(line[1]),int(line[2]),int(line[3]),int(line[4])])\n",
    "        for box in bbox:\n",
    "            if ('discard' in box[0]):\n",
    "                color = (255,255,255)\n",
    "                print (image_dir.split('/')[-1])\n",
    "                width = 1\n",
    "            else:\n",
    "                color = (255,0,0)\n",
    "                \n",
    "                width = 3\n",
    "            image = cv2.rectangle(image,(box[1],box[2]),(box[3],box[4]),color,width)\n",
    "            image = cv2.putText(image,box[0],(box[1],box[2]),cv2.FONT_HERSHEY_SIMPLEX,1,color,width)\n",
    "        cv2.imwrite(target_dir+'/'+image_dir.split('/')[-1],image)\n",
    "#waterfowlDataset('/home/zt253/data/WaterfowlDataset/Processed/Bird_A','/home/zt253/data/WaterfowlDataset/Processed/Bird_A/image_info.csv',True,'/home/zt253/data/WaterfowlDataset/Visual/Bird_A')\n",
    "        "
   ]
  },
  {
   "cell_type": "code",
   "execution_count": 3,
   "metadata": {},
   "outputs": [
    {
     "name": "stdout",
     "output_type": "stream",
     "text": [
      "/home/zt253/data/WaterfowlDataset/Processed/Bird_G_512Crop\n"
     ]
    }
   ],
   "source": [
    "folder_list  = sorted(glob.glob('/home/zt253/data/WaterfowlDataset/Processed/Bird_G_*'))\n",
    "for folder_dir in folder_list:\n",
    "    print (folder_dir)\n",
    "    waterfowlDataset(folder_dir,folder_dir+'/image_info.csv',True,folder_dir.replace('Processed','Visual'))"
   ]
  },
  {
   "cell_type": "markdown",
   "metadata": {},
   "source": [
    "Check whether the generated files match the original images interms of numbers"
   ]
  },
  {
   "cell_type": "code",
   "execution_count": null,
   "metadata": {},
   "outputs": [],
   "source": [
    "import glob\n",
    "import pandas as pd\n",
    "folder_list  = sorted(glob.glob('/home/zt253/data/WaterfowlDataset/Processed/Bird*'))\n",
    "for folder_dir in folder_list:\n",
    "    print (folder_dir)\n",
    "    df = pd.read_csv(folder_dir+'/image_info.csv')\n",
    "    logged_number = len(df)\n",
    "    visual_folder = folder_dir.replace('Processed','Visual')\n",
    "    image_number = len(glob.glob(visual_folder+'/*'))\n",
    "    print (logged_number,image_number)"
   ]
  },
  {
   "cell_type": "markdown",
   "metadata": {},
   "source": [
    "Applying updated Bird_H and replace the old version"
   ]
  },
  {
   "cell_type": "code",
   "execution_count": null,
   "metadata": {},
   "outputs": [],
   "source": [
    "new_root_dir_1 = '/home/zt253/Downloads/new_bird_h/Availability_Decoys_Bird_H/*/*/*/*/*.jpg'\n",
    "new_root_dir_2 = '/home/zt253/Downloads/new_bird_h/Availability_Decoys_Bird_H/*/*/*/*.jpg'\n",
    "target_dir = '/home/zt253/Downloads/new_bird_h/Bird_H'\n",
    "image_list = glob.glob(new_root_dir_1)+glob.glob(new_root_dir_2)\n",
    "image_list = [i for i in image_list if 'visual' not in i]\n",
    "print (len(image_list))\n",
    "image_info = []\n",
    "for image_dir in image_list:\n",
    "    altitude = int(image_dir.split('meters/')[0].split('m/')[0].split('/')[-1].split('_')[-1])\n",
    "    image_name = ''\n",
    "    for seg in image_dir.split('/')[-5:]:\n",
    "        image_name+=seg+'_'\n",
    "    image_name = image_name[:-1]\n",
    "    if ('Availability_Decoys_Bird_H_' in image_name):\n",
    "        background_info = image_dir.split('/')[-3]\n",
    "        image_name = image_name.replace('Availability_Decoys_Bird_H_','')\n",
    "    else:\n",
    "        background_info = image_dir.split('/')[-4]\n",
    "    \n",
    "    anno_dir = image_dir.replace('.jpg','.txt')\n",
    "    shutil.copy(image_dir,target_dir+'/'+image_name)\n",
    "    shutil.copy(anno_dir,target_dir+'/'+image_name.replace('.jpg','_class.txt'))\n",
    "    rollTxtBackDetection(anno_dir,target_dir+'/'+image_name.replace('.jpg','.txt'))\n",
    "    image_info.append([image_name,image_name.replace('.jpg','.txt'),image_name.replace('.jpg','_class.txt'),background_info,altitude])\n",
    "image_info = pd.DataFrame(image_info)\n",
    "image_info.to_csv(target_dir+'/image_info.csv',header = ['image_name','annotation_name','classification_name','background_info','altitude'])"
   ]
  },
  {
   "cell_type": "code",
   "execution_count": null,
   "metadata": {},
   "outputs": [],
   "source": [
    "folder_list  = sorted(glob.glob('/home/zt253/Downloads/new_bird_h/Bird_H'))\n",
    "for folder_dir in folder_list:\n",
    "    print (folder_dir)\n",
    "    waterfowlDataset(folder_dir,folder_dir+'/image_info.csv',True,folder_dir+'_visual')"
   ]
  },
  {
   "cell_type": "code",
   "execution_count": 3,
   "metadata": {},
   "outputs": [
    {
     "data": {
      "text/plain": [
       "11010"
      ]
     },
     "execution_count": 3,
     "metadata": {},
     "output_type": "execute_result"
    }
   ],
   "source": [
    "#Check all the txt anno files\n",
    "import glob\n",
    "txt_list = glob.glob('/home/zt253/data/WaterfowlDataset/Processed/*/*.txt')\n",
    "txt_list=[i for i in txt_list if i not in glob.glob('/home/zt253/data/WaterfowlDataset/Processed/*/*mask*.txt')]\n",
    "len(txt_list)\n"
   ]
  },
  {
   "cell_type": "code",
   "execution_count": 5,
   "metadata": {},
   "outputs": [
    {
     "name": "stdout",
     "output_type": "stream",
     "text": [
      "/home/zt253/data/WaterfowlDataset/Processed/Bird_C/DJI_0356_60m_bird_box.txt\n",
      "/home/zt253/data/WaterfowlDataset/Processed/Bird_J/Cloud_MoistSoil_30m_DJI_0864.txt\n",
      "/home/zt253/data/WaterfowlDataset/Processed/Bird_J/Cloud_MoistSoil_30m_DJI_0858.txt\n",
      "/home/zt253/data/WaterfowlDataset/Processed/Bird_J/Cloud_MoistSoil_30m_DJI_0881.txt\n",
      "/home/zt253/data/WaterfowlDataset/Processed/Bird_J/Sun_StandingCorn_15m_DJI_0448.txt\n",
      "/home/zt253/data/WaterfowlDataset/Processed/Bird_J/Sun_StandingCorn_60m_DJI_0335.txt\n",
      "/home/zt253/data/WaterfowlDataset/Processed/Bird_J/Sun_Lotus_90m_DJI_0454.txt\n",
      "/home/zt253/data/WaterfowlDataset/Processed/Bird_J/Sun_Lotus_90m_DJI_0454.txt\n",
      "/home/zt253/data/WaterfowlDataset/Processed/Bird_J/Sun_StandingCorn_60m_DJI_0289.txt\n"
     ]
    }
   ],
   "source": [
    "for txt_dir in txt_list:\n",
    "    with open(txt_dir,'r') as f:\n",
    "        data = f.readlines()\n",
    "    for line in data:\n",
    "        box =line.replace('\\n','').split(',')[1:]\n",
    "        box = [int(i) for i in box]\n",
    "        if (box[0]>=box[2] or box[1]>=box[3]):\n",
    "            print (txt_dir)"
   ]
  }
 ],
 "metadata": {
  "kernelspec": {
   "display_name": "Python 3.8.0 ('torch_py3')",
   "language": "python",
   "name": "python3"
  },
  "language_info": {
   "codemirror_mode": {
    "name": "ipython",
    "version": 3
   },
   "file_extension": ".py",
   "mimetype": "text/x-python",
   "name": "python",
   "nbconvert_exporter": "python",
   "pygments_lexer": "ipython3",
   "version": "3.8.0"
  },
  "orig_nbformat": 4,
  "vscode": {
   "interpreter": {
    "hash": "0d043a31b8cfd4e73f82f0b00b3dc737d5e3aefb669f36b1993d0f4a7a76d708"
   }
  }
 },
 "nbformat": 4,
 "nbformat_minor": 2
}
